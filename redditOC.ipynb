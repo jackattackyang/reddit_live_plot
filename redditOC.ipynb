{
 "cells": [
  {
   "cell_type": "code",
   "execution_count": 1,
   "metadata": {},
   "outputs": [],
   "source": [
    "import praw\n",
    "import time"
   ]
  },
  {
   "cell_type": "code",
   "execution_count": 2,
   "metadata": {},
   "outputs": [],
   "source": [
    "reddit = praw.Reddit(client_id='xgmRlhZijlhrAw',\n",
    "                     client_secret='fmbGpkyRsS2Ph87Zdt63zLlFVBY',\n",
    "                     user_agent='hypopets')"
   ]
  },
  {
   "cell_type": "code",
   "execution_count": 3,
   "metadata": {},
   "outputs": [
    {
     "name": "stdout",
     "output_type": "stream",
     "text": [
      "True\n"
     ]
    }
   ],
   "source": [
    "print(reddit.read_only)"
   ]
  },
  {
   "cell_type": "code",
   "execution_count": 7,
   "metadata": {},
   "outputs": [],
   "source": [
    "data = {'post_title': [],\n",
    "        'score': [],\n",
    "        'upvote_ratio': [],\n",
    "        'time': []}"
   ]
  },
  {
   "cell_type": "code",
   "execution_count": 106,
   "metadata": {},
   "outputs": [],
   "source": [
    "time_count = 0\n",
    "while time_count<100:\n",
    "    post=reddit.submission(url='https://www.reddit.com/r/leagueoflegends/comments/cnt2wl/tarzaned_runs_it_down_then_afks_ending_the_game/')\n",
    "#     data['post_title'].append(post.title)\n",
    "#     data['score'].append(post.score)\n",
    "#     data['upvote_ratio'].append(post.upvote_ratio)\n",
    "#     data['time'].append(time.time())\n",
    "    with open('test_data.csv', 'a+') as f:\n",
    "        writer = csv.writer(f)\n",
    "        writer.writerows([[post.title, post.upvote_ratio, post.score, time.time()]])\n",
    "    time_count += 1\n",
    "    time.sleep(5)"
   ]
  },
  {
   "cell_type": "code",
   "execution_count": 9,
   "metadata": {},
   "outputs": [],
   "source": [
    "import pandas as pd"
   ]
  },
  {
   "cell_type": "code",
   "execution_count": 10,
   "metadata": {},
   "outputs": [],
   "source": [
    "df = pd.DataFrame(data)"
   ]
  },
  {
   "cell_type": "code",
   "execution_count": 11,
   "metadata": {},
   "outputs": [],
   "source": [
    "import altair as alt"
   ]
  },
  {
   "cell_type": "code",
   "execution_count": 44,
   "metadata": {},
   "outputs": [],
   "source": [
    "df['time'] = pd.to_datetime(df['time'], unit='s', 'US/Eastern')"
   ]
  },
  {
   "cell_type": "code",
   "execution_count": 55,
   "metadata": {},
   "outputs": [
    {
     "data": {
      "application/vnd.vegalite.v3+json": {
       "$schema": "https://vega.github.io/schema/vega-lite/v3.3.0.json",
       "config": {
        "mark": {
         "tooltip": null
        },
        "view": {
         "height": 300,
         "width": 400
        }
       },
       "data": {
        "name": "data-e824bd247837976ed3f4489ab007081e"
       },
       "datasets": {
        "data-e824bd247837976ed3f4489ab007081e": [
         {
          "score": 19831,
          "time": "2019-08-09T03:50:01.093576670",
          "upvote_ratio": 0.91
         },
         {
          "score": 19838,
          "time": "2019-08-09T03:50:08.360995770",
          "upvote_ratio": 0.91
         },
         {
          "score": 19849,
          "time": "2019-08-09T03:50:15.588673830",
          "upvote_ratio": 0.91
         },
         {
          "score": 19857,
          "time": "2019-08-09T03:50:22.833689928",
          "upvote_ratio": 0.91
         },
         {
          "score": 19854,
          "time": "2019-08-09T03:50:30.049596786",
          "upvote_ratio": 0.91
         },
         {
          "score": 19869,
          "time": "2019-08-09T03:50:37.189821005",
          "upvote_ratio": 0.91
         },
         {
          "score": 19870,
          "time": "2019-08-09T03:50:44.450610161",
          "upvote_ratio": 0.91
         },
         {
          "score": 19873,
          "time": "2019-08-09T03:50:51.610061646",
          "upvote_ratio": 0.91
         },
         {
          "score": 19883,
          "time": "2019-08-09T03:50:58.947623253",
          "upvote_ratio": 0.91
         },
         {
          "score": 19894,
          "time": "2019-08-09T03:51:06.252945185",
          "upvote_ratio": 0.91
         },
         {
          "score": 19894,
          "time": "2019-08-09T03:51:13.581438303",
          "upvote_ratio": 0.91
         },
         {
          "score": 19904,
          "time": "2019-08-09T03:51:20.864200592",
          "upvote_ratio": 0.91
         },
         {
          "score": 19913,
          "time": "2019-08-09T03:51:28.653321981",
          "upvote_ratio": 0.91
         },
         {
          "score": 19918,
          "time": "2019-08-09T03:51:35.838327646",
          "upvote_ratio": 0.91
         },
         {
          "score": 19926,
          "time": "2019-08-09T03:51:43.343881369",
          "upvote_ratio": 0.91
         },
         {
          "score": 19923,
          "time": "2019-08-09T03:51:50.916741133",
          "upvote_ratio": 0.91
         },
         {
          "score": 19930,
          "time": "2019-08-09T03:51:58.558739185",
          "upvote_ratio": 0.91
         },
         {
          "score": 19947,
          "time": "2019-08-09T03:52:06.134595156",
          "upvote_ratio": 0.91
         },
         {
          "score": 19952,
          "time": "2019-08-09T03:52:13.617850780",
          "upvote_ratio": 0.91
         },
         {
          "score": 19966,
          "time": "2019-08-09T03:52:21.028291941",
          "upvote_ratio": 0.91
         },
         {
          "score": 19965,
          "time": "2019-08-09T03:52:28.435034990",
          "upvote_ratio": 0.91
         },
         {
          "score": 19979,
          "time": "2019-08-09T03:52:35.951999903",
          "upvote_ratio": 0.91
         },
         {
          "score": 19976,
          "time": "2019-08-09T03:52:43.324806690",
          "upvote_ratio": 0.91
         },
         {
          "score": 19990,
          "time": "2019-08-09T03:52:50.768943787",
          "upvote_ratio": 0.91
         },
         {
          "score": 20005,
          "time": "2019-08-09T03:52:58.531785488",
          "upvote_ratio": 0.91
         },
         {
          "score": 20005,
          "time": "2019-08-09T03:53:05.895703793",
          "upvote_ratio": 0.91
         },
         {
          "score": 20008,
          "time": "2019-08-09T03:53:13.123705864",
          "upvote_ratio": 0.91
         },
         {
          "score": 20015,
          "time": "2019-08-09T03:53:20.717257738",
          "upvote_ratio": 0.91
         },
         {
          "score": 20015,
          "time": "2019-08-09T03:53:27.945847273",
          "upvote_ratio": 0.91
         },
         {
          "score": 20026,
          "time": "2019-08-09T03:53:35.442267418",
          "upvote_ratio": 0.91
         },
         {
          "score": 20033,
          "time": "2019-08-09T03:53:42.750374794",
          "upvote_ratio": 0.91
         },
         {
          "score": 20037,
          "time": "2019-08-09T03:53:49.924724817",
          "upvote_ratio": 0.91
         },
         {
          "score": 20050,
          "time": "2019-08-09T03:53:57.356645823",
          "upvote_ratio": 0.91
         },
         {
          "score": 20057,
          "time": "2019-08-09T03:54:04.564551353",
          "upvote_ratio": 0.91
         },
         {
          "score": 20068,
          "time": "2019-08-09T03:54:11.915111542",
          "upvote_ratio": 0.91
         },
         {
          "score": 20069,
          "time": "2019-08-09T03:54:19.759349823",
          "upvote_ratio": 0.91
         },
         {
          "score": 20075,
          "time": "2019-08-09T03:54:27.179859400",
          "upvote_ratio": 0.91
         },
         {
          "score": 20089,
          "time": "2019-08-09T03:54:34.652872086",
          "upvote_ratio": 0.91
         },
         {
          "score": 20091,
          "time": "2019-08-09T03:54:42.234426737",
          "upvote_ratio": 0.91
         },
         {
          "score": 20096,
          "time": "2019-08-09T03:54:49.667959213",
          "upvote_ratio": 0.91
         },
         {
          "score": 20110,
          "time": "2019-08-09T03:54:56.978873491",
          "upvote_ratio": 0.91
         },
         {
          "score": 20108,
          "time": "2019-08-09T03:55:04.357749462",
          "upvote_ratio": 0.91
         },
         {
          "score": 20121,
          "time": "2019-08-09T03:55:11.497843266",
          "upvote_ratio": 0.91
         },
         {
          "score": 20122,
          "time": "2019-08-09T03:55:18.674877405",
          "upvote_ratio": 0.91
         },
         {
          "score": 20134,
          "time": "2019-08-09T03:55:25.690836430",
          "upvote_ratio": 0.91
         },
         {
          "score": 20142,
          "time": "2019-08-09T03:55:33.283602238",
          "upvote_ratio": 0.91
         },
         {
          "score": 20144,
          "time": "2019-08-09T03:55:40.686689138",
          "upvote_ratio": 0.91
         },
         {
          "score": 20147,
          "time": "2019-08-09T03:55:47.906927586",
          "upvote_ratio": 0.91
         },
         {
          "score": 20158,
          "time": "2019-08-09T03:55:55.340125322",
          "upvote_ratio": 0.91
         },
         {
          "score": 20162,
          "time": "2019-08-09T03:56:02.572988510",
          "upvote_ratio": 0.91
         },
         {
          "score": 20167,
          "time": "2019-08-09T03:56:09.908056498",
          "upvote_ratio": 0.91
         },
         {
          "score": 20178,
          "time": "2019-08-09T03:56:17.197013140",
          "upvote_ratio": 0.91
         },
         {
          "score": 20185,
          "time": "2019-08-09T03:56:26.307647943",
          "upvote_ratio": 0.91
         },
         {
          "score": 20191,
          "time": "2019-08-09T03:56:34.001404762",
          "upvote_ratio": 0.91
         },
         {
          "score": 20200,
          "time": "2019-08-09T03:56:41.583477736",
          "upvote_ratio": 0.91
         },
         {
          "score": 20194,
          "time": "2019-08-09T03:56:48.672120571",
          "upvote_ratio": 0.91
         },
         {
          "score": 20210,
          "time": "2019-08-09T03:56:56.046346903",
          "upvote_ratio": 0.91
         },
         {
          "score": 20218,
          "time": "2019-08-09T03:57:03.472061872",
          "upvote_ratio": 0.91
         },
         {
          "score": 20231,
          "time": "2019-08-09T03:57:10.639452457",
          "upvote_ratio": 0.91
         },
         {
          "score": 20240,
          "time": "2019-08-09T03:57:17.846278667",
          "upvote_ratio": 0.91
         },
         {
          "score": 20246,
          "time": "2019-08-09T03:57:25.279851913",
          "upvote_ratio": 0.91
         },
         {
          "score": 20250,
          "time": "2019-08-09T03:57:32.838414192",
          "upvote_ratio": 0.91
         },
         {
          "score": 20257,
          "time": "2019-08-09T03:57:40.276046038",
          "upvote_ratio": 0.91
         },
         {
          "score": 20265,
          "time": "2019-08-09T03:57:47.638047457",
          "upvote_ratio": 0.91
         },
         {
          "score": 20269,
          "time": "2019-08-09T03:57:55.000127316",
          "upvote_ratio": 0.91
         },
         {
          "score": 20281,
          "time": "2019-08-09T03:58:02.171106815",
          "upvote_ratio": 0.91
         },
         {
          "score": 20283,
          "time": "2019-08-09T03:58:09.584148169",
          "upvote_ratio": 0.91
         },
         {
          "score": 20287,
          "time": "2019-08-09T03:58:16.833425045",
          "upvote_ratio": 0.91
         },
         {
          "score": 20289,
          "time": "2019-08-09T03:58:24.594102859",
          "upvote_ratio": 0.91
         },
         {
          "score": 20298,
          "time": "2019-08-09T03:58:31.991141319",
          "upvote_ratio": 0.91
         },
         {
          "score": 20305,
          "time": "2019-08-09T03:58:39.277624369",
          "upvote_ratio": 0.91
         },
         {
          "score": 20306,
          "time": "2019-08-09T03:58:46.623305559",
          "upvote_ratio": 0.91
         },
         {
          "score": 20320,
          "time": "2019-08-09T03:58:53.865640640",
          "upvote_ratio": 0.91
         },
         {
          "score": 20327,
          "time": "2019-08-09T03:59:01.307764053",
          "upvote_ratio": 0.91
         },
         {
          "score": 20331,
          "time": "2019-08-09T03:59:08.680881500",
          "upvote_ratio": 0.91
         },
         {
          "score": 20340,
          "time": "2019-08-09T03:59:15.947423220",
          "upvote_ratio": 0.91
         },
         {
          "score": 20342,
          "time": "2019-08-09T03:59:23.428858519",
          "upvote_ratio": 0.91
         },
         {
          "score": 20356,
          "time": "2019-08-09T03:59:30.641664505",
          "upvote_ratio": 0.91
         },
         {
          "score": 20364,
          "time": "2019-08-09T03:59:37.990079403",
          "upvote_ratio": 0.91
         },
         {
          "score": 20368,
          "time": "2019-08-09T03:59:45.351245880",
          "upvote_ratio": 0.91
         },
         {
          "score": 20367,
          "time": "2019-08-09T03:59:52.676922560",
          "upvote_ratio": 0.91
         },
         {
          "score": 20383,
          "time": "2019-08-09T03:59:59.793498516",
          "upvote_ratio": 0.91
         },
         {
          "score": 20381,
          "time": "2019-08-09T04:00:07.158364773",
          "upvote_ratio": 0.91
         },
         {
          "score": 20395,
          "time": "2019-08-09T04:00:14.622835159",
          "upvote_ratio": 0.91
         },
         {
          "score": 20410,
          "time": "2019-08-09T04:00:21.780396223",
          "upvote_ratio": 0.91
         },
         {
          "score": 20409,
          "time": "2019-08-09T04:00:29.259111166",
          "upvote_ratio": 0.91
         },
         {
          "score": 20416,
          "time": "2019-08-09T04:00:37.141889095",
          "upvote_ratio": 0.91
         },
         {
          "score": 20423,
          "time": "2019-08-09T04:00:44.368099689",
          "upvote_ratio": 0.91
         },
         {
          "score": 20429,
          "time": "2019-08-09T04:00:51.882048607",
          "upvote_ratio": 0.91
         },
         {
          "score": 20434,
          "time": "2019-08-09T04:00:59.146502495",
          "upvote_ratio": 0.91
         },
         {
          "score": 20436,
          "time": "2019-08-09T04:01:06.590657711",
          "upvote_ratio": 0.91
         },
         {
          "score": 20448,
          "time": "2019-08-09T04:01:14.089808464",
          "upvote_ratio": 0.91
         },
         {
          "score": 20455,
          "time": "2019-08-09T04:01:21.698807478",
          "upvote_ratio": 0.91
         },
         {
          "score": 20467,
          "time": "2019-08-09T04:01:29.149808168",
          "upvote_ratio": 0.91
         },
         {
          "score": 20464,
          "time": "2019-08-09T04:01:36.514805317",
          "upvote_ratio": 0.91
         },
         {
          "score": 20478,
          "time": "2019-08-09T04:01:44.103807926",
          "upvote_ratio": 0.91
         },
         {
          "score": 20481,
          "time": "2019-08-09T04:01:51.315801620",
          "upvote_ratio": 0.91
         },
         {
          "score": 20489,
          "time": "2019-08-09T04:01:58.806802273",
          "upvote_ratio": 0.91
         },
         {
          "score": 20498,
          "time": "2019-08-09T04:02:05.912857294",
          "upvote_ratio": 0.91
         },
         {
          "score": 20507,
          "time": "2019-08-09T04:02:13.506855010",
          "upvote_ratio": 0.91
         }
        ]
       },
       "encoding": {
        "x": {
         "field": "time",
         "type": "temporal"
        },
        "y": {
         "field": "upvote_ratio",
         "type": "quantitative"
        }
       },
       "mark": "line"
      },
      "image/png": "[encoded data removed]",
      "text/plain": [
       "<VegaLite 3 object>\n",
       "\n",
       "If you see this message, it means the renderer has not been properly enabled\n",
       "for the frontend that you are using. For more information, see\n",
       "https://altair-viz.github.io/user_guide/troubleshooting.html\n"
      ]
     },
     "execution_count": 55,
     "metadata": {},
     "output_type": "execute_result"
    }
   ],
   "source": [
    "alt.Chart(df.loc[:,'score':'time']).mark_line().encode(\n",
    "    x = 'time',\n",
    "    y = 'upvote_ratio')"
   ]
  },
  {
   "cell_type": "code",
   "execution_count": 116,
   "metadata": {},
   "outputs": [],
   "source": [
    "df = pd.read_csv('test_data.csv', names=['title', 'upvote_ratio', 'upvotes', 'time'])"
   ]
  },
  {
   "cell_type": "code",
   "execution_count": 121,
   "metadata": {},
   "outputs": [],
   "source": [
    "df['time'] = pd.to_datetime(df['time'], unit='s')"
   ]
  },
  {
   "cell_type": "code",
   "execution_count": 123,
   "metadata": {},
   "outputs": [],
   "source": [
    "chart = alt.Chart(df).mark_line().encode(\n",
    "    x = 'time',\n",
    "    y = 'upvote_ratio')"
   ]
  },
  {
   "cell_type": "code",
   "execution_count": 125,
   "metadata": {},
   "outputs": [],
   "source": [
    "chart.save('chart.html')"
   ]
  }
 ],
 "metadata": {
  "kernelspec": {
   "display_name": "Python 3",
   "language": "python",
   "name": "python3"
  },
  "language_info": {
   "codemirror_mode": {
    "name": "ipython",
    "version": 3
   },
   "file_extension": ".py",
   "mimetype": "text/x-python",
   "name": "python",
   "nbconvert_exporter": "python",
   "pygments_lexer": "ipython3",
   "version": "3.6.5"
  }
 },
 "nbformat": 4,
 "nbformat_minor": 4
}
